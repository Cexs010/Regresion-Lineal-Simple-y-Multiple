{
 "cells": [
  {
   "cell_type": "code",
   "execution_count": 1,
   "metadata": {},
   "outputs": [],
   "source": [
    "import pandas as pd\n",
    "import numpy as np\n",
    "import matplotlib.pyplot as plt\n",
    "import seaborn as sns"
   ]
  },
  {
   "cell_type": "code",
   "execution_count": 2,
   "metadata": {},
   "outputs": [],
   "source": [
    "#Cargar archivo csv desde seaborn\n",
    "df= pd.read_csv('Tasmania_datos_limpios.csv')"
   ]
  },
  {
   "cell_type": "code",
   "execution_count": 4,
   "metadata": {},
   "outputs": [],
   "source": [
    "# Paso 2: Convertir room_type a números (sin cambiar su significado)\n",
    "room_type_mapping = {\n",
    "    'Entire home/apt': 1,\n",
    "    'Private room': 2,\n",
    "    'Hotel room': 3,\n",
    "    'Shared room': 4\n",
    "}\n",
    "df['room_type_encoded'] = df['room_type'].map(room_type_mapping)"
   ]
  },
  {
   "cell_type": "code",
   "execution_count": 5,
   "metadata": {},
   "outputs": [],
   "source": [
    "# Paso 3: Crear 4 DataFrames para México según room_type\n",
    "df_tas_entire = df[df['room_type'] == 'Entire home/apt']\n",
    "df_tas_private = df[df['room_type'] == 'Private room']\n",
    "df_tas_shared = df[df['room_type'] == 'Hotel room']\n",
    "df_tas_hotel = df[df['room_type'] == 'Shared room']\n",
    "\n",
    "# Lista de DataFrames y etiquetas\n",
    "dataframes = [\n",
    "    (df_tas_entire, 'Entire home/apt'),\n",
    "    (df_tas_private, 'Private room'),\n",
    "    (df_tas_shared, 'Hotel room'),\n",
    "    (df_tas_hotel, 'Shared room')\n",
    "]"
   ]
  },
  {
   "cell_type": "code",
   "execution_count": 6,
   "metadata": {},
   "outputs": [
    {
     "name": "stdout",
     "output_type": "stream",
     "text": [
      "Archivos CSV guardados correctamente.\n"
     ]
    }
   ],
   "source": [
    "# Guardar cada DataFrame en un archivo CSV\n",
    "df_tas_entire.to_csv('tasico_Entire_Home_Apt.csv', index=False)\n",
    "df_tas_private.to_csv('tasico_Private_Room.csv', index=False)\n",
    "df_tas_shared.to_csv('tasico_Shared_Room.csv', index=False)\n",
    "df_tas_hotel.to_csv('tasico_Hotel_Room.csv', index=False)\n",
    "\n",
    "print(\"Archivos CSV guardados correctamente.\")"
   ]
  }
 ],
 "metadata": {
  "kernelspec": {
   "display_name": "Python 3",
   "language": "python",
   "name": "python3"
  },
  "language_info": {
   "codemirror_mode": {
    "name": "ipython",
    "version": 3
   },
   "file_extension": ".py",
   "mimetype": "text/x-python",
   "name": "python",
   "nbconvert_exporter": "python",
   "pygments_lexer": "ipython3",
   "version": "3.13.2"
  }
 },
 "nbformat": 4,
 "nbformat_minor": 2
}
